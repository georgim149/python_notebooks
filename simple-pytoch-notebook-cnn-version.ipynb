{
 "cells": [
  {
   "cell_type": "markdown",
   "id": "2ceeef94",
   "metadata": {},
   "source": [
    "Imports"
   ]
  },
  {
   "cell_type": "code",
   "execution_count": 1,
   "id": "c8d3e165",
   "metadata": {},
   "outputs": [],
   "source": [
    "import torch\n",
    "import torch.nn as nn # All neural network modules, nn.Linear, nn.Conv2d, BatchNorm, Loss functions\n",
    "import torch.optim as optim # For all Optimization algorithms, SGD, Adam, etc.\n",
    "import torch.nn.functional as F # All functions that don't have any parameters\n",
    "from torch.utils.data import DataLoader # Gives easier dataset managment and creates mini batches\n",
    "import torchvision.datasets as datasets # Has standard datasets we can import in a nice and easy way\n",
    "import torchvision.transforms as transforms # Transformations we can perform on our dataset"
   ]
  },
  {
   "cell_type": "markdown",
   "id": "2986a253",
   "metadata": {},
   "source": [
    "More imports to load mnist"
   ]
  },
  {
   "cell_type": "code",
   "execution_count": 2,
   "id": "b32332bb",
   "metadata": {},
   "outputs": [],
   "source": [
    "import torchvision\n",
    "from torch.utils.data import DataLoader # data management \n",
    "import torchvision.datasets as datasets # standard datasets\n",
    "import torchvision.transforms as transforms # data processing"
   ]
  },
  {
   "cell_type": "markdown",
   "id": "5ad030bf",
   "metadata": {},
   "source": [
    "Set up MNIST and batch size"
   ]
  },
  {
   "cell_type": "code",
   "execution_count": 3,
   "id": "2ec075c6",
   "metadata": {},
   "outputs": [],
   "source": [
    "batch_size = 64\n",
    "train_dataset = datasets.MNIST( \n",
    "    root=\"dataset/\",\n",
    "    train=True,\n",
    "    transform=transforms.ToTensor(),\n",
    "    download=True,\n",
    ")\n",
    "train_loader = DataLoader(\n",
    "    dataset=train_dataset, batch_size=batch_size, shuffle=True\n",
    ")\n",
    "test_dataset = datasets.MNIST(\n",
    "    root=\"dataset/\",\n",
    "    train=False,\n",
    "    transform=transforms.ToTensor(),\n",
    "    download=True,\n",
    ")\n",
    "test_loader = DataLoader(\n",
    "    dataset=test_dataset, batch_size=batch_size, shuffle=True\n",
    ")"
   ]
  },
  {
   "cell_type": "markdown",
   "id": "5b2a131b",
   "metadata": {},
   "source": [
    "Set up base traning class\n"
   ]
  },
  {
   "cell_type": "code",
   "execution_count": 4,
   "id": "fa033687",
   "metadata": {},
   "outputs": [],
   "source": [
    "class NN(nn.Module):\n",
    "    def __init__(self, input_size, num_classes):\n",
    "        super(NN, self).__init__()\n",
    "        self.fc1 = nn.Linear(input_size, 50)\n",
    "        self.fc2 = nn.Linear(50, num_classes)\n",
    "\n",
    "    def forward(self, x):\n",
    "        x = F.relu(self.fc1(x))\n",
    "        x = self.fc2(x)\n",
    "        return x "
   ]
  },
  {
   "cell_type": "markdown",
   "id": "e8e5ac6d",
   "metadata": {},
   "source": [
    "Make it a CNN"
   ]
  },
  {
   "cell_type": "code",
   "execution_count": 6,
   "id": "9eae2b0e",
   "metadata": {},
   "outputs": [],
   "source": [
    "class CNN(nn.Module):\n",
    "    def __init__(self, input_channels = 1, num_classes = 10):\n",
    "        super(CNN, self).__init__()\n",
    "        self.Conv1 = nn.Conv2d(in_channels = 1, out_channels = 8, kernel_size = (3,3), stride=(1,1), padding = (1,1))\n",
    "        self.pool = nn.MaxPool2d(kernel_size=(2,2), stride = (2,2))\n",
    "        self.Conv2 = nn.Conv2d(in_channels = 8, out_channels = 16, kernel_size = (3,3), stride=(1,1), padding = (1,1))\n",
    "        self.fc = nn.Linear(16*7*7, num_classes)\n",
    "        \n",
    "    def forward(self,x):\n",
    "        x = F.relu(self.Conv1(x))\n",
    "        x = self.pool(x)\n",
    "        x = F.relu(self.Conv2(x))\n",
    "        x = self.pool(x)\n",
    "        x = x.reshape(x.shape[0], -1)\n",
    "        x = self.fc(x)\n",
    "        \n",
    "        return x"
   ]
  },
  {
   "cell_type": "markdown",
   "id": "d9580053",
   "metadata": {},
   "source": [
    "# Setting up the training loop"
   ]
  },
  {
   "cell_type": "code",
   "execution_count": 7,
   "id": "6d1d1182",
   "metadata": {},
   "outputs": [],
   "source": [
    "device = torch.device(\"cuda\" if torch.cuda.is_available() else \"cpu\")\n",
    "input_channels = 1\n",
    "num_classes = 10\n",
    "learning_rate = 0.001\n",
    "num_epochs = 3"
   ]
  },
  {
   "cell_type": "code",
   "execution_count": 8,
   "id": "f1b4bbfd",
   "metadata": {},
   "outputs": [],
   "source": [
    "model = CNN().to(device)\n",
    "criterion = nn.CrossEntropyLoss()\n",
    "optimizer = optim.Adam(model.parameters(), lr=learning_rate)"
   ]
  },
  {
   "cell_type": "code",
   "execution_count": 10,
   "id": "8589293b",
   "metadata": {},
   "outputs": [
    {
     "name": "stdout",
     "output_type": "stream",
     "text": [
      "Epoch: 0\n",
      "Epoch: 1\n",
      "Epoch: 2\n"
     ]
    }
   ],
   "source": [
    "for epoch in range(num_epochs):\n",
    "    print(f\"Epoch: {epoch}\")\n",
    "    for batch_idx, (data, targets) in enumerate(train_loader):\n",
    "        # Get data to cuda if possible\n",
    "        data = data.to(device=device)\n",
    "        targets = targets.to(device=device)\n",
    "\n",
    "        # No need toget to correct shape, 28x28->784\n",
    "        # -1 will flatten all outer dimensions into one\n",
    "        # data = data.reshape(data.shape[0], -1) \n",
    "\n",
    "        # forward propagation\n",
    "        scores = model(data)\n",
    "        loss = criterion(scores, targets)\n",
    "\n",
    "        # zero previous gradients\n",
    "        optimizer.zero_grad()\n",
    "        \n",
    "        # back-propagation\n",
    "        loss.backward()\n",
    "\n",
    "        # gradient descent or adam step\n",
    "        optimizer.step()"
   ]
  },
  {
   "cell_type": "code",
   "execution_count": 13,
   "id": "ab865256",
   "metadata": {},
   "outputs": [],
   "source": [
    "def check_accuracy(loader, model):\n",
    "    num_correct = 0\n",
    "    num_samples = 0\n",
    "    model.eval()\n",
    "\n",
    "    with torch.no_grad():\n",
    "        for x, y in loader:\n",
    "            x = x.to(device=device)\n",
    "            y = y.to(device=device)\n",
    "\n",
    "            scores = model(x)\n",
    "            _, predictions = scores.max(1)\n",
    "            num_correct += (predictions == y).sum()\n",
    "            num_samples += predictions.size(0)\n",
    "\n",
    "        print(\n",
    "            f\"Got {num_correct} / {num_samples} with accuracy\"\n",
    "            f\" {float(num_correct) / float(num_samples) * 100:.2f}\"\n",
    "        )\n",
    "\n",
    "    model.train()"
   ]
  },
  {
   "cell_type": "code",
   "execution_count": 14,
   "id": "8bfb2d52",
   "metadata": {},
   "outputs": [
    {
     "name": "stdout",
     "output_type": "stream",
     "text": [
      "Got 58934 / 60000 with accuracy 98.22\n",
      "Got 9823 / 10000 with accuracy 98.23\n"
     ]
    }
   ],
   "source": [
    "check_accuracy(train_loader, model)\n",
    "check_accuracy(test_loader, model)"
   ]
  },
  {
   "cell_type": "code",
   "execution_count": null,
   "id": "ffdb9085",
   "metadata": {},
   "outputs": [],
   "source": []
  }
 ],
 "metadata": {
  "kernelspec": {
   "display_name": "Python 3 (ipykernel)",
   "language": "python",
   "name": "python3"
  },
  "language_info": {
   "codemirror_mode": {
    "name": "ipython",
    "version": 3
   },
   "file_extension": ".py",
   "mimetype": "text/x-python",
   "name": "python",
   "nbconvert_exporter": "python",
   "pygments_lexer": "ipython3",
   "version": "3.11.4"
  }
 },
 "nbformat": 4,
 "nbformat_minor": 5
}
